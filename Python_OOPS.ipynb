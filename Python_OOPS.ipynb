{
  "nbformat": 4,
  "nbformat_minor": 0,
  "metadata": {
    "colab": {
      "provenance": []
    },
    "kernelspec": {
      "name": "python3",
      "display_name": "Python 3"
    },
    "language_info": {
      "name": "python"
    }
  },
  "cells": [
    {
      "cell_type": "markdown",
      "source": [
        "**Python OOPS**\n",
        "\n",
        "1. What is Object-Oriented Programming (OOP)?\n",
        "--> Object-Oriented Programming (OOP) is a programming paradigm based on the concept of objects, which encapsulate data and behavior. It uses principles like encapsulation, inheritance, polymorphism, and abstraction to improve code reusability and organization. OOP is widely used in languages like Python, Java, and C++.\n",
        "\n",
        "2. What is a class in OOP?\n",
        "--> A class in Object-Oriented Programming (OOP) is a blueprint or template for creating objects. It defines attributes (data) and methods (functions) that the objects will have. In Python, a class is created using the class keyword.\n",
        "\n",
        "3. What is an object in OOP?\n",
        "--> An object in Object-Oriented Programming (OOP) is an instance of a class that has its own data (attributes) and behavior (methods). It is created using a class as a blueprint.\n",
        "\n",
        "4. What is the difference between abstraction and encapsulation?\n",
        "-->\n",
        "**Difference Between Abstraction and Encapsulation**\n",
        "\n",
        "Abstraction is the process of hiding the implementation details of a system and showing only the necessary functionality to the user. It helps in reducing complexity by focusing on what an object does rather than how it does it. Abstraction is achieved using abstract classes and interfaces in Python.\n",
        "\n",
        "Encapsulation is the mechanism of restricting direct access to an object's data and allowing modification only through defined methods. It helps in data protection and security by bundling the data (variables) and methods (functions) together within a class. Encapsulation is implemented using private (__variable) and protected (_variable) attributes in Python.\n",
        "\n",
        "5. What are dunder methods in Python?\n",
        "--> Dunder (Double Underscore) methods, also known as magic methods or special methods, are predefined methods in Python that start and end with double underscores (__method__). These methods are automatically invoked when specific operations are performed on objects.\n",
        "\n",
        "6. Explain the concept of inheritance in OOP.\n",
        "--> Inheritance is a fundamental concept in Object-Oriented Programming (OOP) that allows one class (child class) to inherit the properties and behaviors (attributes and methods) of another class (parent class). It promotes code reusability, modularity, and hierarchy in programming.\n",
        "\n",
        "**Types of Inheritance in Python**\n",
        "\n",
        "Single Inheritance → A child class inherits from one parent class.\n",
        "\n",
        "Multiple Inheritance → A child class inherits from multiple parent classes.\n",
        "\n",
        "Multilevel Inheritance → A child class inherits from a parent class, which itself is derived from another class.\n",
        "\n",
        "Hierarchical Inheritance → Multiple child classes inherit from a single parent class.\n",
        "\n",
        "Hybrid Inheritance → A combination of two or more types of inheritance.\n",
        "\n",
        "7. What is polymorphism in OOP?\n",
        "--> Polymorphism is an Object-Oriented Programming (OOP) concept that allows objects of different classes to be treated as objects of a common superclass. It enables a single interface to be used for different data types, making code more flexible and reusable.\n",
        "\n",
        "**Types of Polymorphism**\n",
        "\n",
        "Method Overriding → A child class provides a specific implementation of a method already defined in its parent class.\n",
        "\n",
        "Method Overloading (Not supported directly in Python) → Achieved using default arguments or variable-length arguments.\n",
        "\n",
        "Operator Overloading → Redefining the behavior of operators like +, -, etc., for user-defined objects.\n",
        "\n",
        "8. How is encapsulation achieved in Python?\n",
        "--> Encapsulation in Python is achieved by restricting direct access to an object's data and allowing controlled access through methods. It helps in data protection, security, and abstraction by hiding the implementation details from the user.\n",
        "\n",
        "**Ways to Achieve Encapsulation in Python**\n",
        "\n",
        "Using Private Variables (__variable) → Data cannot be accessed directly outside the class.\n",
        "\n",
        "Using Protected Variables (_variable) → Data is meant for internal use but can still be accessed.\n",
        "\n",
        "Using Getter and Setter Methods → Provides controlled access to private attributes.\n",
        "\n",
        "9. What is a constructor in Python?\n",
        "--> A constructor in Python is a special method called __init__() that is automatically executed when an object of a class is created. It is used to initialize object attributes and set up the necessary state for the object.\n",
        "\n",
        "10. What are class and static methods in Python?\n",
        "--> Python provides two special types of methods in addition to instance methods:\n",
        "\n",
        "Class Methods (@classmethod) → Operate on the class level and can modify class attributes.\n",
        "\n",
        "Static Methods (@staticmethod) → Do not access instance or class attributes and behave like regular functions inside a class.\n",
        "\n",
        "11. What is method overloading in Python?\n",
        "--> Method Overloading allows multiple methods in the same class to have the same name but different parameters. However, Python does not support method overloading like other languages (e.g., Java or C++), where multiple methods with the same name but different parameter lists can exist.\n",
        "\n",
        "Instead, Python achieves method overloading using:\n",
        "\n",
        "Default arguments\n",
        "\n",
        "Variable-length arguments (*args, **kwargs)\n",
        "\n",
        "12.  What is method overriding in OOP?\n",
        "--> Method Overriding is a feature in Object-Oriented Programming (OOP) that allows a subclass (child class) to provide a specific implementation of a method that is already defined in its superclass (parent class). The overridden method in the child class must have the same name, return type, and parameters as in the parent class.\n",
        "\n",
        "**Key Points of Method Overriding:**\n",
        "\n",
        "a. The method must be defined in both the parent and child classes.\n",
        "\n",
        "b. The child class provides its own implementation, which replaces the parent class’s version.\n",
        "\n",
        "c. Used for achieving runtime polymorphism (dynamic method dispatch).\n",
        "\n",
        "13. What is a property decorator in Python?\n",
        "--> The @property decorator in Python is used to define getter, setter, and deleter methods in a class. It allows us to control access to instance attributes by defining methods that behave like attributes.\n",
        "\n",
        "14. Why is polymorphism important in OOP?\n",
        "--> Polymorphism is one of the four key principles of Object-Oriented Programming (OOP), along with Encapsulation, Abstraction, and Inheritance. It allows objects of different classes to be treated as objects of a common base class, enabling flexibility and reusability in code.\n",
        "\n",
        "15. What is an abstract class in Python?\n",
        "--> An abstract class in Python is a class that cannot be instantiated and is meant to be a blueprint for other classes. It contains one or more abstract methods, which must be implemented by any subclass.\n",
        "\n",
        "Abstract classes are defined using the ABC (Abstract Base Class) module from the abc package.\n",
        "\n",
        "16. What are the advantages of OOP?\n",
        "--> Object-Oriented Programming (OOP) is a programming paradigm based on the concept of objects and classes. It provides several benefits that improve code organization, reusability, and maintainability.\n",
        "\n",
        "17. What is the difference between a class variable and an instance variable?\n",
        "--> **Difference Between Class Variable and Instance Variable**\n",
        "\n",
        "In Object-Oriented Programming (OOP), variables can be categorized into class variables and instance variables based on their scope, storage, and behavior.\n",
        "\n",
        "a. **Class Variable**\n",
        "A class variable is a variable that is shared among all instances of a class. It is declared inside the class but outside any method. Changes to a class variable affect all instances of the class.\n",
        "\n",
        "Characteristics of Class Variables:\n",
        "\n",
        "a. Shared among all instances of the class.\n",
        "b. Defined outside methods within the class.\n",
        "c. Can be accessed using the class name or instance name.\n",
        "d. Modifications affect all objects unless explicitly overridden in an instance.\n",
        "\n",
        "b. **Instance Variable**\n",
        "An instance variable is unique to each object (instance) of a class. It is declared inside a method, typically within the __init__ constructor, using the self keyword.\n",
        "\n",
        "Characteristics of Instance Variables:\n",
        "\n",
        "a. Specific to each object (not shared).\n",
        "b. Defined inside a method, using self.variable_name.\n",
        "c. Can only be accessed and modified via an instance.\n",
        "d. Changes to one instance do not affect others.\n",
        "\n",
        "18. What is multiple inheritance in Python?\n",
        "--> Multiple Inheritance is a feature in Python where a class can inherit attributes and methods from more than one parent class. This allows a child class to acquire the properties of multiple base classes.\n",
        "\n",
        "19. Explain the purpose of ‘’__str__’ and ‘__repr__’ ‘ methods in Python.\n",
        "--> In Python, __str__ and __repr__ are dunder (double underscore) methods that define how objects are represented as strings. These methods are useful for displaying and debugging objects effectively.\n",
        "\n",
        "20. What is the significance of the ‘super()’ function in Python?\n",
        "--> The super() function in Python is used to call a method from the parent (superclass) inside a subclass. It allows for efficient method resolution in inheritance, avoiding redundant code and ensuring better maintainability.\n",
        "\n",
        "21. What is the significance of the __del__ method in Python?\n",
        "--> The __del__ method in Python is a destructor that is called automatically when an object is about to be destroyed. It is used for cleanup operations such as closing files, releasing resources, or deleting temporary data before an object is removed from memory.\n",
        "\n",
        "22. What is the difference between @staticmethod and @classmethod in Python?\n",
        "--> **Difference Between @staticmethod and @classmethod in Python:**\n",
        "\n",
        "In Python, both @staticmethod and @classmethod are decorators used to define methods inside a class that do not operate on instance-specific data. However, they have distinct differences in functionality and use cases.\n",
        "\n",
        "a. **@staticmethod (Static Method)**\n",
        "\n",
        "A static method belongs to a class but does not access instance (self) or class (cls) attributes.\n",
        "\n",
        "It behaves like a regular function inside a class and is called using ClassName.method_name() or object.method_name().\n",
        "\n",
        "It is used for utility functions that do not modify class or instance data\n",
        "\n",
        "b. **@classmethod (Class Method)**\n",
        "\n",
        "A class method takes cls as its first parameter, representing the class itself.\n",
        "\n",
        "It can modify class-level attributes and is called using ClassName.method_name() or object.method_name().\n",
        "\n",
        "It is useful for alternative constructors or modifying class-wide behavior.\n",
        "\n",
        "23. How does polymorphism work in Python with inheritance?\n",
        "--> Polymorphism in Python allows different classes to define methods with the same name but with different implementations. This enables objects of different types to be treated uniformly, promoting flexibility and extensibility in Object-Oriented Programming (OOP).\n",
        "\n",
        "Polymorphism and Inheritance\n",
        "\n",
        "Polymorphism is often implemented using inheritance, where a child class overrides a method from its parent class. This allows objects of the child class to provide their own specific implementation while still being considered instances of the parent class. The overridden method in the child class is executed when accessed through a reference of the parent class, ensuring dynamic method resolution at runtime.\n",
        "\n",
        "In Python, polymorphism combined with inheritance ensures a more structured, modular, and maintainable codebase, allowing objects to be used interchangeably while maintaining their unique functionalities.\n",
        "\n",
        "24. What is method chaining in Python OOP?\n",
        "--> Method chaining is a technique where multiple methods are called on the same object in a single statement. Each method returns self, allowing another method to be called directly on the returned instance. This improves code readability, follows a fluent API style, and reduces temporary variables.\n",
        "\n",
        "25. What is the purpose of the __call__ method in Python?\n",
        "--> The __call__ method allows an instance of a class to be called like a function. It enables objects to behave like functions, making them callable while retaining object state. This is useful for creating function-like objects, decorators, and dynamic behavior in OOP.\n",
        "\n",
        "\n"
      ],
      "metadata": {
        "id": "55Uo3PIf6Eme"
      }
    },
    {
      "cell_type": "code",
      "source": [
        "#Practical Questions\n",
        "\n",
        "#1. Create a parent class Animal with a method speak() that prints a generic message. Create a child class Dog that overrides the speak() method to print \"Bark!\".\n",
        "\n",
        "class Animal:\n",
        "    def speak(self):\n",
        "        print(\"Animal makes a sound\")\n",
        "\n",
        "class Dog(Animal):\n",
        "    def speak(self):\n",
        "        print(\"Bark!\")\n",
        "\n",
        "# Example usage\n",
        "animal = Animal()\n",
        "animal.speak()  # Output: Animal makes a sound\n",
        "\n",
        "dog = Dog()\n",
        "dog.speak()  # Output: Bark!\n"
      ],
      "metadata": {
        "colab": {
          "base_uri": "https://localhost:8080/"
        },
        "id": "RI8n1bsOHgwM",
        "outputId": "d9373f9e-1f22-4069-8eef-969386f9f3c3"
      },
      "execution_count": 1,
      "outputs": [
        {
          "output_type": "stream",
          "name": "stdout",
          "text": [
            "Animal makes a sound\n",
            "Bark!\n"
          ]
        }
      ]
    },
    {
      "cell_type": "code",
      "source": [
        "#2. Write a program to create an abstract class Shape with a method area(). Derive classes Circle and Rectangle from it and implement the area() method in both.\n",
        "\n",
        "from abc import ABC, abstractmethod\n",
        "\n",
        "class Shape(ABC):\n",
        "    @abstractmethod\n",
        "    def area(self):\n",
        "        pass\n",
        "\n",
        "class Circle(Shape):\n",
        "    def __init__(self, radius):\n",
        "        self.radius = radius\n",
        "\n",
        "    def area(self):\n",
        "        return 3.14 * self.radius * self.radius\n",
        "\n",
        "class Rectangle(Shape):\n",
        "    def __init__(self, length, width):\n",
        "        self.length = length\n",
        "        self.width = width\n",
        "\n",
        "    def area(self):\n",
        "        return self.length * self.width\n",
        "\n",
        "# Example usage\n",
        "circle = Circle(5)\n",
        "print(\"Circle Area:\", circle.area())  # Output: Circle Area: 78.5\n",
        "\n",
        "rectangle = Rectangle(4, 6)\n",
        "print(\"Rectangle Area:\", rectangle.area())  # Output: Rectangle Area: 24\n"
      ],
      "metadata": {
        "colab": {
          "base_uri": "https://localhost:8080/"
        },
        "id": "41KomEqkHzM0",
        "outputId": "5864e5f1-9ae7-47a7-bc7e-3ddb9b81da5c"
      },
      "execution_count": 2,
      "outputs": [
        {
          "output_type": "stream",
          "name": "stdout",
          "text": [
            "Circle Area: 78.5\n",
            "Rectangle Area: 24\n"
          ]
        }
      ]
    },
    {
      "cell_type": "code",
      "source": [
        "#3. Implement a multi-level inheritance scenario where a class Vehicle has an attribute type. Derive a class Car and further derive a class ElectricCar that adds a battery attribute.\n",
        "class Vehicle:\n",
        "    def __init__(self, type):\n",
        "        self.type = type\n",
        "\n",
        "class Car(Vehicle):\n",
        "    def __init__(self, type, brand):\n",
        "        super().__init__(type)\n",
        "        self.brand = brand\n",
        "\n",
        "class ElectricCar(Car):\n",
        "    def __init__(self, type, brand, battery_capacity):\n",
        "        super().__init__(type, brand)\n",
        "        self.battery_capacity = battery_capacity\n",
        "\n",
        "# Example usage\n",
        "ev = ElectricCar(\"Four-Wheeler\", \"Tesla\", \"100 kWh\")\n",
        "print(f\"Type: {ev.type}, Brand: {ev.brand}, Battery: {ev.battery_capacity}\")\n",
        "\n",
        "# Output: Type: Four-Wheeler, Brand: Tesla, Battery: 100 kWh\n"
      ],
      "metadata": {
        "colab": {
          "base_uri": "https://localhost:8080/"
        },
        "id": "0zsjfmsrH7lo",
        "outputId": "1476e68e-a85d-4ccf-f688-9e90eb72cdb5"
      },
      "execution_count": 3,
      "outputs": [
        {
          "output_type": "stream",
          "name": "stdout",
          "text": [
            "Type: Four-Wheeler, Brand: Tesla, Battery: 100 kWh\n"
          ]
        }
      ]
    },
    {
      "cell_type": "code",
      "source": [
        "#4. Demonstrate polymorphism by creating a base class Bird with a method fly(). Create two derived classes Sparrow and Penguin that override the fly() method.\n",
        "class Bird:\n",
        "    def fly(self):\n",
        "        print(\"Some birds can fly\")\n",
        "\n",
        "class Sparrow(Bird):\n",
        "    def fly(self):\n",
        "        print(\"Sparrow flies high\")\n",
        "\n",
        "class Penguin(Bird):\n",
        "    def fly(self):\n",
        "        print(\"Penguins cannot fly\")\n",
        "\n",
        "# Example usage\n",
        "birds = [Sparrow(), Penguin(), Bird()]\n",
        "for bird in birds:\n",
        "    bird.fly()\n",
        "\n",
        "# Output:\n",
        "# Sparrow flies high\n",
        "# Penguins cannot fly\n",
        "# Some birds can fly\n"
      ],
      "metadata": {
        "colab": {
          "base_uri": "https://localhost:8080/"
        },
        "id": "zraQJWCNIFwd",
        "outputId": "f70c1789-ab32-4d43-8815-d132dd78378a"
      },
      "execution_count": 4,
      "outputs": [
        {
          "output_type": "stream",
          "name": "stdout",
          "text": [
            "Sparrow flies high\n",
            "Penguins cannot fly\n",
            "Some birds can fly\n"
          ]
        }
      ]
    },
    {
      "cell_type": "code",
      "source": [
        "#5. Write a program to demonstrate encapsulation by creating a class BankAccount with private attributes balance and methods to deposit, withdraw, and check balance.\n",
        "\n",
        "class BankAccount:\n",
        "    def __init__(self, initial_balance):\n",
        "        self.__balance = initial_balance  # Private attribute\n",
        "\n",
        "    def deposit(self, amount):\n",
        "        if amount > 0:\n",
        "            self.__balance += amount\n",
        "            print(f\"Deposited: {amount}\")\n",
        "        else:\n",
        "            print(\"Invalid deposit amount\")\n",
        "\n",
        "    def withdraw(self, amount):\n",
        "        if 0 < amount <= self.__balance:\n",
        "            self.__balance -= amount\n",
        "            print(f\"Withdrawn: {amount}\")\n",
        "        else:\n",
        "            print(\"Insufficient balance or invalid amount\")\n",
        "\n",
        "    def check_balance(self):\n",
        "        print(f\"Current Balance: {self.__balance}\")\n",
        "\n",
        "# Example usage\n",
        "account = BankAccount(1000)\n",
        "account.deposit(500)\n",
        "account.withdraw(300)\n",
        "account.check_balance()\n",
        "\n",
        "# Output:\n",
        "# Deposited: 500\n",
        "# Withdrawn: 300\n",
        "# Current Balance: 1200\n"
      ],
      "metadata": {
        "colab": {
          "base_uri": "https://localhost:8080/"
        },
        "id": "Wkxsb_PLISHY",
        "outputId": "bf064423-b050-407b-e951-c55b9436934a"
      },
      "execution_count": 5,
      "outputs": [
        {
          "output_type": "stream",
          "name": "stdout",
          "text": [
            "Deposited: 500\n",
            "Withdrawn: 300\n",
            "Current Balance: 1200\n"
          ]
        }
      ]
    },
    {
      "cell_type": "code",
      "source": [
        "#6. Demonstrate runtime polymorphism using a method play() in a base class Instrument. Derive classes Guitar and Piano that implement their own version of play().\n",
        "class Instrument:\n",
        "    def play(self):\n",
        "        print(\"Playing an instrument\")\n",
        "\n",
        "class Guitar(Instrument):\n",
        "    def play(self):\n",
        "        print(\"Strumming the guitar\")\n",
        "\n",
        "class Piano(Instrument):\n",
        "    def play(self):\n",
        "        print(\"Playing the piano\")\n",
        "\n",
        "# Example usage\n",
        "instruments = [Guitar(), Piano(), Instrument()]\n",
        "for instrument in instruments:\n",
        "    instrument.play()\n",
        "\n",
        "# Output:\n",
        "# Strumming the guitar\n",
        "# Playing the piano\n",
        "# Playing an instrument\n"
      ],
      "metadata": {
        "colab": {
          "base_uri": "https://localhost:8080/"
        },
        "id": "YCSBU3RmIZmr",
        "outputId": "d8c978e6-9fde-4d7f-b682-fd33262c3754"
      },
      "execution_count": 6,
      "outputs": [
        {
          "output_type": "stream",
          "name": "stdout",
          "text": [
            "Strumming the guitar\n",
            "Playing the piano\n",
            "Playing an instrument\n"
          ]
        }
      ]
    },
    {
      "cell_type": "code",
      "source": [
        "#7. Create a class MathOperations with a class method add_numbers() to add two numbers and a static method subtract_numbers() to subtract two numbers.\n",
        "class MathOperations:\n",
        "    @classmethod\n",
        "    def add_numbers(cls, a, b):\n",
        "        return a + b\n",
        "\n",
        "    @staticmethod\n",
        "    def subtract_numbers(a, b):\n",
        "        return a - b\n",
        "\n",
        "# Example usage\n",
        "print(\"Addition:\", MathOperations.add_numbers(10, 5))    # Output: Addition: 15\n",
        "print(\"Subtraction:\", MathOperations.subtract_numbers(10, 5))  # Output: Subtraction: 5\n"
      ],
      "metadata": {
        "colab": {
          "base_uri": "https://localhost:8080/"
        },
        "id": "kNqIt301Ig8B",
        "outputId": "35d181af-23ab-4750-ea3e-0af90ac81c33"
      },
      "execution_count": 7,
      "outputs": [
        {
          "output_type": "stream",
          "name": "stdout",
          "text": [
            "Addition: 15\n",
            "Subtraction: 5\n"
          ]
        }
      ]
    },
    {
      "cell_type": "code",
      "source": [
        "#8. Implement a class Person with a class method to count the total number of persons created.\n",
        "class Person:\n",
        "    count = 0  # Class variable to track the number of persons\n",
        "\n",
        "    def __init__(self, name):\n",
        "        self.name = name\n",
        "        Person.count += 1  # Increment count when a new person is created\n",
        "\n",
        "    @classmethod\n",
        "    def total_persons(cls):\n",
        "        return cls.count  # Return total count\n",
        "\n",
        "# Example usage\n",
        "p1 = Person(\"Alice\")\n",
        "p2 = Person(\"Bob\")\n",
        "p3 = Person(\"Charlie\")\n",
        "\n",
        "print(\"Total Persons:\", Person.total_persons())  # Output: Total Persons: 3\n"
      ],
      "metadata": {
        "colab": {
          "base_uri": "https://localhost:8080/"
        },
        "id": "SW4db1bsIodZ",
        "outputId": "bedae09b-3756-4850-8f1c-21c5d135df5d"
      },
      "execution_count": 8,
      "outputs": [
        {
          "output_type": "stream",
          "name": "stdout",
          "text": [
            "Total Persons: 3\n"
          ]
        }
      ]
    },
    {
      "cell_type": "code",
      "source": [
        "#9. Write a class Fraction with attributes numerator and denominator. Override the str method to display the fraction as \"numerator/denominator\".\n",
        "class Fraction:\n",
        "    def __init__(self, numerator, denominator):\n",
        "        self.numerator = numerator\n",
        "        self.denominator = denominator\n",
        "\n",
        "    def __str__(self):\n",
        "        return f\"{self.numerator}/{self.denominator}\"\n",
        "\n",
        "# Example usage\n",
        "frac = Fraction(3, 4)\n",
        "print(frac)  # Output: 3/4\n"
      ],
      "metadata": {
        "colab": {
          "base_uri": "https://localhost:8080/"
        },
        "id": "vMPmZtFhIti3",
        "outputId": "a71b1b01-0cc9-4131-997e-8608a8df52c5"
      },
      "execution_count": 9,
      "outputs": [
        {
          "output_type": "stream",
          "name": "stdout",
          "text": [
            "3/4\n"
          ]
        }
      ]
    },
    {
      "cell_type": "code",
      "source": [
        "#10. Demonstrate operator overloading by creating a class Vector and overriding the add method to add two vectors.\n",
        "class Vector:\n",
        "    def __init__(self, x, y):\n",
        "        self.x = x\n",
        "        self.y = y\n",
        "\n",
        "    def __add__(self, other):\n",
        "        return Vector(self.x + other.x, self.y + other.y)\n",
        "\n",
        "    def __str__(self):\n",
        "        return f\"({self.x}, {self.y})\"\n",
        "\n",
        "# Example usage\n",
        "v1 = Vector(2, 3)\n",
        "v2 = Vector(4, 5)\n",
        "v3 = v1 + v2  # Using overloaded + operator\n",
        "print(v3)  # Output: (6, 8)\n"
      ],
      "metadata": {
        "colab": {
          "base_uri": "https://localhost:8080/"
        },
        "id": "KwshmRF5I0Mt",
        "outputId": "b2e6a23f-664e-4d82-8d3d-d785a4800850"
      },
      "execution_count": 10,
      "outputs": [
        {
          "output_type": "stream",
          "name": "stdout",
          "text": [
            "(6, 8)\n"
          ]
        }
      ]
    },
    {
      "cell_type": "code",
      "source": [
        "#11. Create a class Person with attributes name and age. Add a method greet() that prints \"Hello, my name is {name} and I am {age} years old.\"\n",
        "class Person:\n",
        "    def __init__(self, name, age):\n",
        "        self.name = name\n",
        "        self.age = age\n",
        "\n",
        "    def greet(self):\n",
        "        print(f\"Hello, my name is {self.name} and I am {self.age} years old.\")\n",
        "\n",
        "# Example usage\n",
        "p = Person(\"Ajinkya\", 24)\n",
        "p.greet()  # Output: Hello, my name is Ajinkya and I am 24 years old.\n"
      ],
      "metadata": {
        "colab": {
          "base_uri": "https://localhost:8080/"
        },
        "id": "N1uQ-83wI8oG",
        "outputId": "454c8b79-7141-4506-b77c-e17b999693ff"
      },
      "execution_count": 12,
      "outputs": [
        {
          "output_type": "stream",
          "name": "stdout",
          "text": [
            "Hello, my name is Ajinkya and I am 24 years old.\n"
          ]
        }
      ]
    },
    {
      "cell_type": "code",
      "source": [
        "#12. Implement a class Student with attributes name and grades. Create a method average_grade() to compute the average of the grades.\n",
        "class Student:\n",
        "    def __init__(self, name, grades):\n",
        "        self.name = name\n",
        "        self.grades = grades\n",
        "\n",
        "    def average_grade(self):\n",
        "        return sum(self.grades) / len(self.grades) if self.grades else 0\n",
        "\n",
        "# Example usage\n",
        "s = Student(\"John\", [85, 90, 78, 92])\n",
        "print(f\"Average Grade: {s.average_grade()}\")  # Output: Average Grade: 86.25\n"
      ],
      "metadata": {
        "colab": {
          "base_uri": "https://localhost:8080/"
        },
        "id": "5vWbEDJfJRd0",
        "outputId": "4d4fcacf-e547-4fd9-cbd2-c7d05b772e4f"
      },
      "execution_count": 13,
      "outputs": [
        {
          "output_type": "stream",
          "name": "stdout",
          "text": [
            "Average Grade: 86.25\n"
          ]
        }
      ]
    },
    {
      "cell_type": "code",
      "source": [
        "#13. Create a class Rectangle with methods set_dimensions() to set the dimensions and area() to calculate the area.\n",
        "class Rectangle:\n",
        "    def set_dimensions(self, length, width):\n",
        "        self.length = length\n",
        "        self.width = width\n",
        "\n",
        "    def area(self):\n",
        "        return self.length * self.width\n",
        "\n",
        "# Example usage\n",
        "rect = Rectangle()\n",
        "rect.set_dimensions(5, 3)\n",
        "print(\"Area:\", rect.area())  # Output: Area: 15\n"
      ],
      "metadata": {
        "colab": {
          "base_uri": "https://localhost:8080/"
        },
        "id": "DYvdCrAyJYW7",
        "outputId": "c021efdd-3aa9-4968-c520-aee1988941cd"
      },
      "execution_count": 14,
      "outputs": [
        {
          "output_type": "stream",
          "name": "stdout",
          "text": [
            "Area: 15\n"
          ]
        }
      ]
    },
    {
      "cell_type": "code",
      "source": [
        "#14. Create a class Employee with a method calculate_salary() that computes the salary based on hours worked and hourly rate. Create a derived class Manager that adds a bonus to the salary.\n",
        "class Employee:\n",
        "    def __init__(self, hours_worked, hourly_rate):\n",
        "        self.hours_worked = hours_worked\n",
        "        self.hourly_rate = hourly_rate\n",
        "\n",
        "    def calculate_salary(self):\n",
        "        return self.hours_worked * self.hourly_rate\n",
        "\n",
        "class Manager(Employee):\n",
        "    def __init__(self, hours_worked, hourly_rate, bonus):\n",
        "        super().__init__(hours_worked, hourly_rate)\n",
        "        self.bonus = bonus\n",
        "\n",
        "    def calculate_salary(self):\n",
        "        return super().calculate_salary() + self.bonus\n",
        "\n",
        "# Example usage\n",
        "emp = Employee(40, 20)\n",
        "print(\"Employee Salary:\", emp.calculate_salary())  # Output: Employee Salary: 800\n",
        "\n",
        "mgr = Manager(40, 30, 500)\n",
        "print(\"Manager Salary:\", mgr.calculate_salary())  # Output: Manager Salary: 1700\n"
      ],
      "metadata": {
        "colab": {
          "base_uri": "https://localhost:8080/"
        },
        "id": "Haa5xBX1JfIC",
        "outputId": "ae23be9b-7d8d-479d-be11-5ba5bbb08095"
      },
      "execution_count": 15,
      "outputs": [
        {
          "output_type": "stream",
          "name": "stdout",
          "text": [
            "Employee Salary: 800\n",
            "Manager Salary: 1700\n"
          ]
        }
      ]
    },
    {
      "cell_type": "code",
      "source": [
        "#15. Create a class Product with attributes name, price, and quantity. Implement a method total_price() that calculates the total price of the product.\n",
        "class Product:\n",
        "    def __init__(self, name, price, quantity):\n",
        "        self.name = name\n",
        "        self.price = price\n",
        "        self.quantity = quantity\n",
        "\n",
        "    def total_price(self):\n",
        "        return self.price * self.quantity\n",
        "\n",
        "# Example usage\n",
        "product = Product(\"Laptop\", 800, 2)\n",
        "print(\"Total Price:\", product.total_price())  # Output: Total Price: 1600\n"
      ],
      "metadata": {
        "colab": {
          "base_uri": "https://localhost:8080/"
        },
        "id": "016fg7nNJp5W",
        "outputId": "111277f2-70ed-4314-ad4f-75c72f7a18bd"
      },
      "execution_count": 16,
      "outputs": [
        {
          "output_type": "stream",
          "name": "stdout",
          "text": [
            "Total Price: 1600\n"
          ]
        }
      ]
    },
    {
      "cell_type": "code",
      "source": [
        "#16. Create a class Animal with an abstract method sound(). Create two derived classes Cow and Sheep that implement the sound() method.\n",
        "from abc import ABC, abstractmethod\n",
        "\n",
        "class Animal(ABC):\n",
        "    @abstractmethod\n",
        "    def sound(self):\n",
        "        pass\n",
        "\n",
        "class Cow(Animal):\n",
        "    def sound(self):\n",
        "        print(\"Cow says Moo!\")\n",
        "\n",
        "class Sheep(Animal):\n",
        "    def sound(self):\n",
        "        print(\"Sheep says Baa!\")\n",
        "\n",
        "# Example usage\n",
        "cow = Cow()\n",
        "cow.sound()  # Output: Cow says Moo!\n",
        "\n",
        "sheep = Sheep()\n",
        "sheep.sound()  # Output: Sheep says Baa!\n"
      ],
      "metadata": {
        "colab": {
          "base_uri": "https://localhost:8080/"
        },
        "id": "cU-_ehDsJyXM",
        "outputId": "a26aadda-f200-4f41-9bcf-ca5afdc43c34"
      },
      "execution_count": 17,
      "outputs": [
        {
          "output_type": "stream",
          "name": "stdout",
          "text": [
            "Cow says Moo!\n",
            "Sheep says Baa!\n"
          ]
        }
      ]
    },
    {
      "cell_type": "code",
      "source": [
        "#17. Create a class Book with attributes title, author, and year_published. Add a method get_book_info() that returns a formatted string with the book's details.\n",
        "class Book:\n",
        "    def __init__(self, title, author, year_published):\n",
        "        self.title = title\n",
        "        self.author = author\n",
        "        self.year_published = year_published\n",
        "\n",
        "    def get_book_info(self):\n",
        "        return f\"'{self.title}' by {self.author}, published in {self.year_published}\"\n",
        "\n",
        "# Example usage\n",
        "book = Book(\"1984\", \"George Orwell\", 1949)\n",
        "print(book.get_book_info())  # Output: '1984' by George Orwell, published in 1949\n"
      ],
      "metadata": {
        "colab": {
          "base_uri": "https://localhost:8080/"
        },
        "id": "O9FDCvHcJ59L",
        "outputId": "d0ae84e5-10bc-49d4-9722-db0ce6db69b0"
      },
      "execution_count": 18,
      "outputs": [
        {
          "output_type": "stream",
          "name": "stdout",
          "text": [
            "'1984' by George Orwell, published in 1949\n"
          ]
        }
      ]
    },
    {
      "cell_type": "code",
      "source": [
        "#18. Create a class House with attributes address and price. Create a derived class Mansion that adds an attribute number_of_rooms.\n",
        "class House:\n",
        "    def __init__(self, address, price):\n",
        "        self.address = address\n",
        "        self.price = price\n",
        "\n",
        "class Mansion(House):\n",
        "    def __init__(self, address, price, number_of_rooms):\n",
        "        super().__init__(address, price)\n",
        "        self.number_of_rooms = number_of_rooms\n",
        "\n",
        "# Example usage\n",
        "mansion = Mansion(\"123 Luxury St\", 5000000, 10)\n",
        "print(f\"Address: {mansion.address}, Price: ${mansion.price}, Rooms: {mansion.number_of_rooms}\")\n",
        "\n",
        "# Output: Address: 123 Luxury St, Price: $5000000, Rooms: 10\n"
      ],
      "metadata": {
        "colab": {
          "base_uri": "https://localhost:8080/"
        },
        "id": "Snwb1DVvKBT5",
        "outputId": "5f6c06a1-f3a2-443f-c84a-0c9e7b48c1da"
      },
      "execution_count": 19,
      "outputs": [
        {
          "output_type": "stream",
          "name": "stdout",
          "text": [
            "Address: 123 Luxury St, Price: $5000000, Rooms: 10\n"
          ]
        }
      ]
    }
  ]
}